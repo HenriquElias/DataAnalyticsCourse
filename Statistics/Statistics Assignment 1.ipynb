{
 "cells": [
  {
   "cell_type": "markdown",
   "id": "68eda167",
   "metadata": {},
   "source": [
    "# <p style=\"text-align: center;\">Statistics for data analysis<p/>"
   ]
  },
  {
   "cell_type": "code",
   "execution_count": 1,
   "id": "ecb4cee5",
   "metadata": {},
   "outputs": [],
   "source": [
    "# importing libraries\n",
    "\n",
    "import numpy as np\n",
    "import statistics\n",
    "\n",
    "from scipy.stats import norm\n",
    "from scipy.stats import binom\n",
    "from scipy.stats import poisson\n",
    "from scipy.stats import expon"
   ]
  },
  {
   "cell_type": "markdown",
   "id": "24eab87d",
   "metadata": {},
   "source": [
    "### <p style=\"text-align: center;\">1: Measures of Spread <p/>\n",
    "\n",
    "A teacher wants to assess the performance of a class in a mathematics quiz. The class consists of 10 students, and their quiz scores are as follows:\n",
    "<br /><br />\n",
    "Class: [40,30, 20, 60, 70, 60, 80, 50, 60, 60 ]"
   ]
  },
  {
   "cell_type": "code",
   "execution_count": 2,
   "id": "c2ac62a5",
   "metadata": {},
   "outputs": [],
   "source": [
    "quizz_score = [40,30, 20, 60, 70, 60, 80, 50, 60, 60]"
   ]
  },
  {
   "cell_type": "markdown",
   "id": "bf4e5eb4",
   "metadata": {},
   "source": [
    "1) Calculate the variance of the quiz scores for the class. Show your calculations step by step.\n",
    "<br /><br />\n",
    "Variance can be calculated using the following formula:\n",
    "\n",
    "$\\sigma^2 = \\frac{\\sum_{i=1}^{n} (x_i - \\mu)^2}{n}$"
   ]
  },
  {
   "cell_type": "code",
   "execution_count": 3,
   "id": "7be659fa",
   "metadata": {},
   "outputs": [
    {
     "name": "stdout",
     "output_type": "stream",
     "text": [
      "Variance: 334.44\n"
     ]
    }
   ],
   "source": [
    "print('Variance: {:.2f}'.format(statistics.variance(quizz_score)))"
   ]
  },
  {
   "cell_type": "markdown",
   "id": "21b731c2",
   "metadata": {},
   "source": [
    "2) Calculate the standard deviation of the quiz scores.\n",
    "<br /><br />\n",
    "Stantard deviation is the square root of variance:\n",
    "\n",
    "$\\sigma = \\sqrt{\\frac{\\sum_{i=1}^{n} (x_i - \\mu)^2}{n}}$"
   ]
  },
  {
   "cell_type": "code",
   "execution_count": 4,
   "id": "547dc846",
   "metadata": {},
   "outputs": [
    {
     "name": "stdout",
     "output_type": "stream",
     "text": [
      "Standard Deviation: 18.29\n"
     ]
    }
   ],
   "source": [
    "#2\n",
    "print('Standard Deviation: {:.2f}'.format(statistics.stdev(quizz_score)))"
   ]
  },
  {
   "cell_type": "markdown",
   "id": "c6695c34",
   "metadata": {},
   "source": [
    "### <p style=\"text-align: center;\">2: Normal Distribution<p/>\n",
    "\n",
    "Consider a continuous random variable X that follows a normal distribution with a mean (μ) of 4 and a standard deviation (σ) of 2.\n",
    "<br /><br />\n",
    "1) Write a Python program to calculate the Probability Density Function (PDF) of X at x = 3. Your program should use the provided mean and standard deviation values.\n",
    "<br /><br />\n",
    "PDF can be calculated using the following formula:\n",
    "\n",
    "$f(x) = \\frac{1}{\\sigma \\sqrt{2\\pi}} e^{-\\frac{(x - \\mu)^2}{2\\sigma^2}}$"
   ]
  },
  {
   "cell_type": "code",
   "execution_count": 5,
   "id": "9b0cde4f",
   "metadata": {},
   "outputs": [
    {
     "name": "stdout",
     "output_type": "stream",
     "text": [
      "f(3) = 0.176\n"
     ]
    }
   ],
   "source": [
    "PDFnormal = norm.pdf(3,4,2)\n",
    "print('f(3) = {:.3f}'.format(PDFnormal))"
   ]
  },
  {
   "cell_type": "markdown",
   "id": "58fe170d",
   "metadata": {},
   "source": [
    "### <p style=\"text-align: center;\">3: Binomial Distribution<p/>"
   ]
  },
  {
   "cell_type": "markdown",
   "id": "6d922ea7",
   "metadata": {},
   "source": [
    "1) Sixty-five percent of people pass the state driver’s exam on the first try. A group of 50 individuals who have taken the driver’s exam is randomly selected. Give two reasons why this is a binomial problem.\n",
    "<br/><br/>\n",
    "* reason 1: Binary outcomes. Success or failure in this case\n",
    "* reason 2: Each trial in the experiment is independent to the others"
   ]
  },
  {
   "cell_type": "markdown",
   "id": "d6a69fd7",
   "metadata": {},
   "source": [
    "2) Suppose you play a game that you can only either win or lose. The probability that you win any game is 55%, and the probability that you lose is 45%. Each game you play is independent."
   ]
  },
  {
   "cell_type": "markdown",
   "id": "28de60bb",
   "metadata": {},
   "source": [
    "* If you play the game 20 times,write the function that describes the probability that you win 15 of the 20 times.\n",
    "\n",
    "The PMF can be calculated using the following formula:\n",
    "\n",
    "$P(X = k) = \\binom{n}{k} p^k (1 - p)^{n - k}$\n",
    "<br/><br/>\n",
    "for the problem, we have:\n",
    "\n",
    "$P(X = 15) = \\binom{20}{15} 0.55^{15} (1 - 0.55)^{20 - 15}$"
   ]
  },
  {
   "cell_type": "code",
   "execution_count": 6,
   "id": "71e57683",
   "metadata": {},
   "outputs": [
    {
     "name": "stdout",
     "output_type": "stream",
     "text": [
      "P(X=15) = 0.036\n"
     ]
    }
   ],
   "source": [
    "PMFbinom = binom.pmf(15,20,0.55)\n",
    "print('P(X=15) = {:.3f}'.format(PMFbinom))"
   ]
  },
  {
   "cell_type": "markdown",
   "id": "4e03a0b6",
   "metadata": {},
   "source": [
    "* Find the mean number of wins.\n",
    "<br/><br/>\n",
    "Mean of a Binomial Distribution:\n",
    "\n",
    "$\\mu = n \\cdot p$,\n",
    "\n",
    "$\\mu = 20 \\cdot 0.55$"
   ]
  },
  {
   "cell_type": "code",
   "execution_count": 7,
   "id": "9b18613e",
   "metadata": {},
   "outputs": [
    {
     "name": "stdout",
     "output_type": "stream",
     "text": [
      "mean = 11.000\n"
     ]
    }
   ],
   "source": [
    "MeanBinom = binom.mean(20,0.55)\n",
    "print('mean = {:.3f}'.format(MeanBinom))"
   ]
  },
  {
   "cell_type": "markdown",
   "id": "5d016c81",
   "metadata": {},
   "source": [
    "* Find the standard deviation of wins.\n",
    "<br/><br/>\n",
    "STD for a Binomial Distribution:\n",
    "$\\sigma = \\sqrt{n \\cdot p \\cdot (1 - p)}$,\n",
    "\n",
    "$\\sigma = \\sqrt{20 \\cdot 0.55 \\cdot (1 - 0.55)}$"
   ]
  },
  {
   "cell_type": "code",
   "execution_count": 8,
   "id": "2871af77",
   "metadata": {},
   "outputs": [
    {
     "name": "stdout",
     "output_type": "stream",
     "text": [
      "STD = 2.225\n"
     ]
    }
   ],
   "source": [
    "#Find the standard deviation of wins.\n",
    "\n",
    "STDBinom = binom.std(20,0.55)\n",
    "print('STD = {:.3f}'.format(STDBinom))"
   ]
  },
  {
   "cell_type": "markdown",
   "id": "d1277035",
   "metadata": {},
   "source": [
    "### <p style=\"text-align: center;\">4: Poisson Distribution<p/>\n",
    "\n",
    "You notice that a news reporter says ”uh,” on average, two times per broadcast. What is the probability that the news reporter says ”uh” more than two times per broadcast? This is a Poisson problem because you are interested in knowing the number of times the news reporter says ”uh” during a broadcast."
   ]
  },
  {
   "cell_type": "markdown",
   "id": "864b9626",
   "metadata": {},
   "source": [
    "1) What is the interval of interest?\n",
    "\n",
    "X > 2"
   ]
  },
  {
   "cell_type": "markdown",
   "id": "9051aa55",
   "metadata": {},
   "source": [
    "2) What is the average number of times the news reporter says ”uh” during one broadcast?\n",
    "<br/><br/>\n",
    "The reporter says \"uh\", on average, 2 times per broadcast"
   ]
  },
  {
   "cell_type": "markdown",
   "id": "0bda3dd8",
   "metadata": {},
   "source": [
    "3) What does X represent? Write the correct notation for Poisson distribution?\n",
    "<br/><br/>\n",
    "$\\ P(X = k) = \\frac{{e^{-\\lambda} \\lambda^k}}{{k!}}$,\n",
    "\n",
    "Where, X represents a random variable following the Poisson Distribution\n"
   ]
  },
  {
   "cell_type": "markdown",
   "id": "3d8f4d00",
   "metadata": {},
   "source": [
    "4) Write a mathematical statement for the probability question\n",
    "\n",
    "$\\ P(X > 2) = 1 - \\sum_{i=0}^{2} \\frac{{e^{-2} \\ 2^i}}{{i!}}$\n"
   ]
  },
  {
   "cell_type": "markdown",
   "id": "a2932780",
   "metadata": {},
   "source": [
    "5) Find the probability that the news reporter says ”uh” more than two times per broadcast."
   ]
  },
  {
   "cell_type": "code",
   "execution_count": 9,
   "id": "e267d800",
   "metadata": {},
   "outputs": [
    {
     "name": "stdout",
     "output_type": "stream",
     "text": [
      "P(X>2) = 0.323\n"
     ]
    }
   ],
   "source": [
    "#5\n",
    "CDFpoisson = 1 - poisson.cdf(2,2)\n",
    "print('P(X>2) = {:.3f}'.format(CDFpoisson))"
   ]
  },
  {
   "cell_type": "markdown",
   "id": "759b0270",
   "metadata": {},
   "source": [
    "### <p style=\"text-align: center;\">5: Exponential Distribution<p/>\n",
    "\n",
    "Suppose that an average of 30 customers per hour arrive at a store, and the time between arrivals is exponentially distributed."
   ]
  },
  {
   "cell_type": "markdown",
   "id": "b2b09fe4",
   "metadata": {},
   "source": [
    "1) On average, how many minutes elapse between two successive arrivals?\n",
    "\n",
    "1 hour has 60 minutes.\n",
    "If we expect 30 customers in 1 hour, than we can expect 60 min / 30 customers = 2 min/customer\n",
    "\n",
    "Answer: 2 minutes/customer"
   ]
  },
  {
   "cell_type": "markdown",
   "id": "d15f366b",
   "metadata": {},
   "source": [
    "2) When the store first opens, how long on average does it take for three customers to arrive?\n",
    "<br/><br/>\n",
    "If 1 customer arrives each 2 minutes on average, it will take 3*2 minutes for 3 customers to arrive.\n",
    "\n",
    "Answer: 6 minutes"
   ]
  },
  {
   "cell_type": "markdown",
   "id": "5b4208a3",
   "metadata": {},
   "source": [
    "3) After a customer arrives, find the probability that it takes less than one minute for the next customer to arrive.\n",
    "<br/><br/>\n",
    "Formula for CDF of a exponential distribution:\n",
    "\n",
    "$F(x;\\lambda) =1 - e^{-\\lambda x}$\n"
   ]
  },
  {
   "cell_type": "code",
   "execution_count": 10,
   "id": "6e2bf2eb",
   "metadata": {},
   "outputs": [
    {
     "name": "stdout",
     "output_type": "stream",
     "text": [
      "F(1) = 0.393\n"
     ]
    }
   ],
   "source": [
    "# 3\n",
    "CDFexp = expon.cdf(x=1,scale=2)\n",
    "print('F(1) = {:.3f}'.format(CDFexp))"
   ]
  },
  {
   "cell_type": "markdown",
   "id": "b5c4b1de",
   "metadata": {},
   "source": [
    "4) After a customer arrives, find the probability that it takes more than five minutes for the next customer to arrive.\n",
    "\n",
    "$F(x>5) = 1 - F(x;\\lambda)$"
   ]
  },
  {
   "cell_type": "code",
   "execution_count": 11,
   "id": "cfc566ec",
   "metadata": {},
   "outputs": [
    {
     "name": "stdout",
     "output_type": "stream",
     "text": [
      "F(x>5) = 0.082\n"
     ]
    }
   ],
   "source": [
    "#4\n",
    "CDFexp = 1 - expon.cdf(x=5,scale=2)\n",
    "print('F(x>5) = {:.3f}'.format(CDFexp))"
   ]
  },
  {
   "cell_type": "markdown",
   "id": "e162f03a",
   "metadata": {},
   "source": [
    "5) Seventy percent of the customers arrive within how many minutes of the previous customer?\n",
    "<br/><br/>\n",
    "Considering the formula:\n",
    "\n",
    "$P = 1 - e^{-\\lambda t}$, for $P = 0.7$\n",
    "<br/><br/>\n",
    "we can isolate t"
   ]
  },
  {
   "cell_type": "code",
   "execution_count": 12,
   "id": "7bd29e1e",
   "metadata": {},
   "outputs": [
    {
     "name": "stdout",
     "output_type": "stream",
     "text": [
      "t = 2.408 minutes\n"
     ]
    }
   ],
   "source": [
    "#5\n",
    "PPFexp = expon.ppf(0.7,scale=2)\n",
    "print('t = {:.3f} minutes'.format(PPFexp))"
   ]
  },
  {
   "cell_type": "code",
   "execution_count": 13,
   "id": "701b3915",
   "metadata": {},
   "outputs": [
    {
     "name": "stdout",
     "output_type": "stream",
     "text": [
      "P(x=2.408) = 0.700\n"
     ]
    }
   ],
   "source": [
    "# We can prove the result above using the answer as X in a CDF. The result must be 0.7\n",
    "proof = expon.cdf(2.408, scale=2)\n",
    "print('P(x=2.408) = {:.3f}'.format(proof))"
   ]
  },
  {
   "cell_type": "markdown",
   "id": "0621fc3b",
   "metadata": {},
   "source": [
    "6) Is an exponential distribution reasonable for this situation?\n",
    "<br/><br/>\n",
    "Yes. Exponential distribution is a continous distribution used to model the time elapsed between events. That's exactly the problem we have here, we wanna model how the customers arrival (an event) is distributed along the time. "
   ]
  }
 ],
 "metadata": {
  "kernelspec": {
   "display_name": "Python 3 (ipykernel)",
   "language": "python",
   "name": "python3"
  },
  "language_info": {
   "codemirror_mode": {
    "name": "ipython",
    "version": 3
   },
   "file_extension": ".py",
   "mimetype": "text/x-python",
   "name": "python",
   "nbconvert_exporter": "python",
   "pygments_lexer": "ipython3",
   "version": "3.11.5"
  }
 },
 "nbformat": 4,
 "nbformat_minor": 5
}
